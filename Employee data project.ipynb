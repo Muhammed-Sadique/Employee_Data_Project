{
 "cells": [
  {
   "cell_type": "code",
   "execution_count": 1,
   "id": "eb8d24a1",
   "metadata": {},
   "outputs": [],
   "source": [
    "import pandas as pd\n",
    "import numpy as np"
   ]
  },
  {
   "cell_type": "code",
   "execution_count": 8,
   "id": "4fbcb160",
   "metadata": {},
   "outputs": [],
   "source": [
    "file_path = \"C:\\\\Users\\\\muham\\\\Downloads\\\\myexcel.csv\"\n",
    "\n",
    "df = pd.read_csv(file_path)\n",
    "  "
   ]
  },
  {
   "cell_type": "code",
   "execution_count": 7,
   "id": "d8f3fcac",
   "metadata": {},
   "outputs": [
    {
     "name": "stdout",
     "output_type": "stream",
     "text": [
      "<class 'pandas.core.frame.DataFrame'>\n",
      "RangeIndex: 458 entries, 0 to 457\n",
      "Data columns (total 9 columns):\n",
      " #   Column    Non-Null Count  Dtype  \n",
      "---  ------    --------------  -----  \n",
      " 0   Name      458 non-null    object \n",
      " 1   Team      458 non-null    object \n",
      " 2   Number    458 non-null    int64  \n",
      " 3   Position  458 non-null    object \n",
      " 4   Age       458 non-null    int64  \n",
      " 5   Height    458 non-null    object \n",
      " 6   Weight    458 non-null    int64  \n",
      " 7   College   374 non-null    object \n",
      " 8   Salary    447 non-null    float64\n",
      "dtypes: float64(1), int64(3), object(5)\n",
      "memory usage: 32.3+ KB\n",
      "None\n"
     ]
    }
   ],
   "source": [
    "print(df.info())"
   ]
  },
  {
   "cell_type": "code",
   "execution_count": 9,
   "id": "46acd241",
   "metadata": {},
   "outputs": [
    {
     "data": {
      "text/plain": [
       "Index(['Name', 'Team', 'Number', 'Position', 'Age', 'Height', 'Weight',\n",
       "       'College', 'Salary'],\n",
       "      dtype='object')"
      ]
     },
     "execution_count": 9,
     "metadata": {},
     "output_type": "execute_result"
    }
   ],
   "source": [
    "df.columns"
   ]
  },
  {
   "cell_type": "code",
   "execution_count": 12,
   "id": "a528e594",
   "metadata": {},
   "outputs": [],
   "source": [
    "df[\"Height\"] = np.random.randint(150,181, size=len(df))"
   ]
  },
  {
   "cell_type": "code",
   "execution_count": 13,
   "id": "ac51dbd3",
   "metadata": {},
   "outputs": [
    {
     "name": "stdout",
     "output_type": "stream",
     "text": [
      "            Name            Team  Number Position  Age  Height  Weight   \n",
      "0  Avery Bradley  Boston Celtics       0       PG   25     170     180  \\\n",
      "1    Jae Crowder  Boston Celtics      99       SF   25     174     235   \n",
      "2   John Holland  Boston Celtics      30       SG   27     162     205   \n",
      "3    R.J. Hunter  Boston Celtics      28       SG   22     175     185   \n",
      "4  Jonas Jerebko  Boston Celtics       8       PF   29     165     231   \n",
      "\n",
      "             College     Salary  \n",
      "0              Texas  7730337.0  \n",
      "1          Marquette  6796117.0  \n",
      "2  Boston University        NaN  \n",
      "3      Georgia State  1148640.0  \n",
      "4                NaN  5000000.0  \n"
     ]
    }
   ],
   "source": [
    "print(df.head())"
   ]
  },
  {
   "cell_type": "code",
   "execution_count": 16,
   "id": "b461a88d",
   "metadata": {},
   "outputs": [],
   "source": [
    "total_employees = len(df)\n",
    "team_counts = df.groupby(\"Team\").size().reset_index(name=\"Count\")\n",
    "team_counts[\"Percentage\"] = (team_counts[\"Count\"] / total_employees) * 100\n"
   ]
  },
  {
   "cell_type": "code",
   "execution_count": 17,
   "id": "7d5e56c5",
   "metadata": {},
   "outputs": [
    {
     "name": "stdout",
     "output_type": "stream",
     "text": [
      "Number of employees in each team:\n",
      "                      Team  Count  Percentage\n",
      "0            Atlanta Hawks     15    3.275109\n",
      "1           Boston Celtics     15    3.275109\n",
      "2            Brooklyn Nets     15    3.275109\n",
      "3        Charlotte Hornets     15    3.275109\n",
      "4            Chicago Bulls     15    3.275109\n",
      "5      Cleveland Cavaliers     15    3.275109\n",
      "6         Dallas Mavericks     15    3.275109\n",
      "7           Denver Nuggets     15    3.275109\n",
      "8          Detroit Pistons     15    3.275109\n",
      "9    Golden State Warriors     15    3.275109\n",
      "10         Houston Rockets     15    3.275109\n",
      "11          Indiana Pacers     15    3.275109\n",
      "12    Los Angeles Clippers     15    3.275109\n",
      "13      Los Angeles Lakers     15    3.275109\n",
      "14       Memphis Grizzlies     18    3.930131\n",
      "15              Miami Heat     15    3.275109\n",
      "16         Milwaukee Bucks     16    3.493450\n",
      "17  Minnesota Timberwolves     14    3.056769\n",
      "18    New Orleans Pelicans     19    4.148472\n",
      "19         New York Knicks     16    3.493450\n",
      "20   Oklahoma City Thunder     15    3.275109\n",
      "21           Orlando Magic     14    3.056769\n",
      "22      Philadelphia 76ers     15    3.275109\n",
      "23            Phoenix Suns     15    3.275109\n",
      "24  Portland Trail Blazers     15    3.275109\n",
      "25        Sacramento Kings     15    3.275109\n",
      "26       San Antonio Spurs     15    3.275109\n",
      "27         Toronto Raptors     15    3.275109\n",
      "28               Utah Jazz     16    3.493450\n",
      "29      Washington Wizards     15    3.275109\n"
     ]
    }
   ],
   "source": [
    "print(\"Number of employees in each team:\")"
   ]
  },
  {
   "cell_type": "code",
   "execution_count": 18,
   "id": "195366e5",
   "metadata": {},
   "outputs": [
    {
     "name": "stdout",
     "output_type": "stream",
     "text": [
      "                      Team  Count  Percentage\n",
      "0            Atlanta Hawks     15    3.275109\n",
      "1           Boston Celtics     15    3.275109\n",
      "2            Brooklyn Nets     15    3.275109\n",
      "3        Charlotte Hornets     15    3.275109\n",
      "4            Chicago Bulls     15    3.275109\n",
      "5      Cleveland Cavaliers     15    3.275109\n",
      "6         Dallas Mavericks     15    3.275109\n",
      "7           Denver Nuggets     15    3.275109\n",
      "8          Detroit Pistons     15    3.275109\n",
      "9    Golden State Warriors     15    3.275109\n",
      "10         Houston Rockets     15    3.275109\n",
      "11          Indiana Pacers     15    3.275109\n",
      "12    Los Angeles Clippers     15    3.275109\n",
      "13      Los Angeles Lakers     15    3.275109\n",
      "14       Memphis Grizzlies     18    3.930131\n",
      "15              Miami Heat     15    3.275109\n",
      "16         Milwaukee Bucks     16    3.493450\n",
      "17  Minnesota Timberwolves     14    3.056769\n",
      "18    New Orleans Pelicans     19    4.148472\n",
      "19         New York Knicks     16    3.493450\n",
      "20   Oklahoma City Thunder     15    3.275109\n",
      "21           Orlando Magic     14    3.056769\n",
      "22      Philadelphia 76ers     15    3.275109\n",
      "23            Phoenix Suns     15    3.275109\n",
      "24  Portland Trail Blazers     15    3.275109\n",
      "25        Sacramento Kings     15    3.275109\n",
      "26       San Antonio Spurs     15    3.275109\n",
      "27         Toronto Raptors     15    3.275109\n",
      "28               Utah Jazz     16    3.493450\n",
      "29      Washington Wizards     15    3.275109\n"
     ]
    }
   ],
   "source": [
    "print(team_counts)"
   ]
  },
  {
   "cell_type": "code",
   "execution_count": 19,
   "id": "d646b17f",
   "metadata": {},
   "outputs": [
    {
     "name": "stdout",
     "output_type": "stream",
     "text": [
      "Employees in position: C\n",
      "                Name                    Team  Number Position  Age  Height   \n",
      "7       Kelly Olynyk          Boston Celtics      41        C   25     160  \\\n",
      "10   Jared Sullinger          Boston Celtics       7        C   24     173   \n",
      "14      Tyler Zeller          Boston Celtics      44        C   26     162   \n",
      "23       Brook Lopez           Brooklyn Nets      11        C   28     170   \n",
      "27        Henry Sims           Brooklyn Nets      14        C   26     163   \n",
      "..               ...                     ...     ...      ...  ...     ...   \n",
      "439    Mason Plumlee  Portland Trail Blazers      24        C   26     161   \n",
      "447      Rudy Gobert               Utah Jazz      27        C   23     157   \n",
      "455     Tibor Pleiss               Utah Jazz      21        C   26     160   \n",
      "456      Jeff Withey               Utah Jazz      24        C   26     168   \n",
      "457         Priyanka               Utah Jazz      34        C   25     174   \n",
      "\n",
      "     Weight         College      Salary  \n",
      "7       238         Gonzaga   2165160.0  \n",
      "10      260      Ohio State   2569260.0  \n",
      "14      253  North Carolina   2616975.0  \n",
      "23      275        Stanford  19689000.0  \n",
      "27      248      Georgetown    947276.0  \n",
      "..      ...             ...         ...  \n",
      "439     235            Duke   1415520.0  \n",
      "447     245             NaN   1175880.0  \n",
      "455     256             NaN   2900000.0  \n",
      "456     231          Kansas    947276.0  \n",
      "457     231          Kansas    947276.0  \n",
      "\n",
      "[79 rows x 9 columns]\n",
      "\n",
      "Employees in position: PF\n",
      "                 Name                    Team  Number Position  Age  Height   \n",
      "4       Jonas Jerebko          Boston Celtics       8       PF   29     165  \\\n",
      "5        Amir Johnson          Boston Celtics      90       PF   29     176   \n",
      "6       Jordan Mickey          Boston Celtics      55       PF   21     171   \n",
      "24   Chris McCullough           Brooklyn Nets       1       PF   21     150   \n",
      "25        Willie Reed           Brooklyn Nets      33       PF   26     155   \n",
      "..                ...                     ...     ...      ...  ...     ...   \n",
      "435    Meyers Leonard  Portland Trail Blazers      11       PF   24     170   \n",
      "441       Noah Vonleh  Portland Trail Blazers      21       PF   20     177   \n",
      "442     Trevor Booker               Utah Jazz      33       PF   28     169   \n",
      "446    Derrick Favors               Utah Jazz      15       PF   24     176   \n",
      "452        Trey Lyles               Utah Jazz      41       PF   20     152   \n",
      "\n",
      "     Weight       College      Salary  \n",
      "4       231           NaN   5000000.0  \n",
      "5       240           NaN  12000000.0  \n",
      "6       235           LSU   1170960.0  \n",
      "24      200      Syracuse   1140240.0  \n",
      "25      220   Saint Louis    947276.0  \n",
      "..      ...           ...         ...  \n",
      "435     245      Illinois   3075880.0  \n",
      "441     240       Indiana   2637720.0  \n",
      "442     228       Clemson   4775000.0  \n",
      "446     265  Georgia Tech  12000000.0  \n",
      "452     234      Kentucky   2239800.0  \n",
      "\n",
      "[100 rows x 9 columns]\n",
      "\n",
      "Employees in position: PG\n",
      "              Name                    Team  Number Position  Age  Height   \n",
      "0    Avery Bradley          Boston Celtics       0       PG   25     170  \\\n",
      "8     Terry Rozier          Boston Celtics      12       PG   22     180   \n",
      "9     Marcus Smart          Boston Celtics      36       PG   22     150   \n",
      "11   Isaiah Thomas          Boston Celtics       4       PG   27     177   \n",
      "19    Jarrett Jack           Brooklyn Nets       2       PG   32     153   \n",
      "..             ...                     ...     ...      ...  ...     ...   \n",
      "440  Brian Roberts  Portland Trail Blazers       2       PG   30     159   \n",
      "443     Trey Burke               Utah Jazz       3       PG   23     167   \n",
      "445     Dante Exum               Utah Jazz      11       PG   20     150   \n",
      "453   Shelvin Mack               Utah Jazz       8       PG   26     170   \n",
      "454      Raul Neto               Utah Jazz      25       PG   24     171   \n",
      "\n",
      "     Weight         College     Salary  \n",
      "0       180           Texas  7730337.0  \n",
      "8       190      Louisville  1824360.0  \n",
      "9       220  Oklahoma State  3431040.0  \n",
      "11      185      Washington  6912869.0  \n",
      "19      200    Georgia Tech  6300000.0  \n",
      "..      ...             ...        ...  \n",
      "440     173          Dayton  2854940.0  \n",
      "443     191        Michigan  2658240.0  \n",
      "445     190             NaN  3777720.0  \n",
      "453     203          Butler  2433333.0  \n",
      "454     179             NaN   900000.0  \n",
      "\n",
      "[92 rows x 9 columns]\n",
      "\n",
      "Employees in position: SF\n",
      "                       Name                    Team  Number Position  Age   \n",
      "1               Jae Crowder          Boston Celtics      99       SF   25  \\\n",
      "32   Thanasis Antetokounmpo         New York Knicks      43       SF   23   \n",
      "33          Carmelo Anthony         New York Knicks       7       SF   32   \n",
      "35         Cleanthony Early         New York Knicks      11       SF   25   \n",
      "42             Lance Thomas         New York Knicks      42       SF   28   \n",
      "..                      ...                     ...     ...      ...  ...   \n",
      "428         Al-Farouq Aminu  Portland Trail Blazers       8       SF   25   \n",
      "432        Maurice Harkless  Portland Trail Blazers       4       SF   23   \n",
      "448          Gordon Hayward               Utah Jazz      20       SF   26   \n",
      "450              Joe Ingles               Utah Jazz       2       SF   28   \n",
      "451           Chris Johnson               Utah Jazz      23       SF   26   \n",
      "\n",
      "     Height  Weight        College      Salary  \n",
      "1       174     235      Marquette   6796117.0  \n",
      "32      176     205            NaN     30888.0  \n",
      "33      177     240       Syracuse  22875000.0  \n",
      "35      159     210  Wichita State    845059.0  \n",
      "42      153     235           Duke   1636842.0  \n",
      "..      ...     ...            ...         ...  \n",
      "428     158     215    Wake Forest   8042895.0  \n",
      "432     158     215     St. John's   2894059.0  \n",
      "448     168     226         Butler  15409570.0  \n",
      "450     168     226            NaN   2050000.0  \n",
      "451     169     206         Dayton    981348.0  \n",
      "\n",
      "[85 rows x 9 columns]\n",
      "\n",
      "Employees in position: SG\n",
      "                 Name                    Team  Number Position  Age  Height   \n",
      "2        John Holland          Boston Celtics      30       SG   27     162  \\\n",
      "3         R.J. Hunter          Boston Celtics      28       SG   22     175   \n",
      "12        Evan Turner          Boston Celtics      11       SG   27     156   \n",
      "13        James Young          Boston Celtics      13       SG   20     162   \n",
      "15   Bojan Bogdanovic           Brooklyn Nets      44       SG   27     167   \n",
      "..                ...                     ...     ...      ...  ...     ...   \n",
      "433  Gerald Henderson  Portland Trail Blazers       9       SG   28     176   \n",
      "437     C.J. McCollum  Portland Trail Blazers       3       SG   24     170   \n",
      "438      Luis Montero  Portland Trail Blazers      44       SG   23     157   \n",
      "444        Alec Burks               Utah Jazz      10       SG   24     151   \n",
      "449       Rodney Hood               Utah Jazz       5       SG   23     162   \n",
      "\n",
      "     Weight            College     Salary  \n",
      "2       205  Boston University        NaN  \n",
      "3       185      Georgia State  1148640.0  \n",
      "12      220         Ohio State  3425510.0  \n",
      "13      215           Kentucky  1749840.0  \n",
      "15      216                NaN  3425510.0  \n",
      "..      ...                ...        ...  \n",
      "433     215               Duke  6000000.0  \n",
      "437     200             Lehigh  2525160.0  \n",
      "438     185     Westchester CC   525093.0  \n",
      "444     214           Colorado  9463484.0  \n",
      "449     206               Duke  1348440.0  \n",
      "\n",
      "[102 rows x 9 columns]\n",
      "\n"
     ]
    }
   ],
   "source": [
    "position_groups = df.groupby(\"Position\")\n",
    "for position, employees in position_groups:\n",
    "    print(\"Employees in position:\", position)\n",
    "    print(employees)\n",
    "    print()"
   ]
  },
  {
   "cell_type": "code",
   "execution_count": 24,
   "id": "70a130f6",
   "metadata": {},
   "outputs": [
    {
     "name": "stdout",
     "output_type": "stream",
     "text": [
      "Most common age group: (25, 35]\n"
     ]
    }
   ],
   "source": [
    "age_groups = pd.cut(df['Age'], bins=[18,25,35,45,55,65])\n",
    "age_group_counts = age_groups.value_counts()\n",
    "most_common_age_group = age_group_counts.idxmax()\n",
    "print(\"Most common age group:\", most_common_age_group)"
   ]
  },
  {
   "cell_type": "code",
   "execution_count": 25,
   "id": "2a4f75e7",
   "metadata": {},
   "outputs": [
    {
     "name": "stdout",
     "output_type": "stream",
     "text": [
      "Team and Position with the highest salary:\n",
      "('Los Angeles Lakers', 'SF')\n"
     ]
    }
   ],
   "source": [
    "grouped_data = df.groupby(['Team', 'Position'])['Salary'].sum()\n",
    "highest_salary_position = grouped_data.idxmax()\n",
    "\n",
    "print(\"Team and Position with the highest salary:\")\n",
    "print(highest_salary_position)\n"
   ]
  },
  {
   "cell_type": "code",
   "execution_count": 28,
   "id": "27a401b3",
   "metadata": {},
   "outputs": [
    {
     "data": {
      "image/png": "[encoded data removed]",
      "text/plain": [
       "<Figure size 640x480 with 1 Axes>"
      ]
     },
     "metadata": {},
     "output_type": "display_data"
    },
    {
     "name": "stdout",
     "output_type": "stream",
     "text": [
      "Correlation coefficient: 0.21400941226570971\n"
     ]
    }
   ],
   "source": [
    "import matplotlib.pyplot as plt\n",
    "correlation = df['Age'].corr(df['Salary'])\n",
    "plt.scatter(df['Age'], df['Salary'])\n",
    "plt.xlabel('Age')\n",
    "plt.ylabel('Salary')\n",
    "plt.title('Correlation between Age vs Salary')\n",
    "plt.show()\n",
    "\n",
    "print(\"Correlation coefficient:\", correlation)\n"
   ]
  },
  {
   "cell_type": "code",
   "execution_count": null,
   "id": "5053bd0d",
   "metadata": {},
   "outputs": [],
   "source": []
  }
 ],
 "metadata": {
  "kernelspec": {
   "display_name": "Python 3 (ipykernel)",
   "language": "python",
   "name": "python3"
  },
  "language_info": {
   "codemirror_mode": {
    "name": "ipython",
    "version": 3
   },
   "file_extension": ".py",
   "mimetype": "text/x-python",
   "name": "python",
   "nbconvert_exporter": "python",
   "pygments_lexer": "ipython3",
   "version": "3.11.1"
  }
 },
 "nbformat": 4,
 "nbformat_minor": 5
}
